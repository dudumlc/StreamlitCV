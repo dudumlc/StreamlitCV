{
 "cells": [
  {
   "cell_type": "code",
   "execution_count": 57,
   "metadata": {},
   "outputs": [],
   "source": [
    "import re\n",
    "import requests\n",
    "from bs4 import BeautifulSoup\n",
    "\n",
    "import pandas as pd\n",
    "import numpy as np\n",
    "\n",
    "import seaborn as sns\n",
    "import matplotlib.pyplot as plt\n",
    "\n",
    "from scipy.stats import f_oneway, shapiro, bartlett\n"
   ]
  },
  {
   "cell_type": "code",
   "execution_count": 2,
   "metadata": {},
   "outputs": [],
   "source": [
    "# faz a requisição HTTP para a página principal\n",
    "response = requests.get('https://cruzeiropedia.org/Categoria:Temporadas')\n",
    "\n",
    "# faz o parsing do HTML da página principal\n",
    "soup = BeautifulSoup(response.content, 'html.parser')"
   ]
  },
  {
   "cell_type": "code",
   "execution_count": 3,
   "metadata": {},
   "outputs": [],
   "source": [
    "# encontra todas as tags <a> que contêm o nome das temporadas (identifica os links) \n",
    "temporadas = soup.find_all('a', {'title': \n",
    "                                 ['Categoria:Temporada 2011',\n",
    "                                  'Categoria:Temporada 2012',\n",
    "                                  'Categoria:Temporada 2013',\n",
    "                                  'Categoria:Temporada 2014',\n",
    "                                  'Categoria:Temporada 2015',\n",
    "                                  'Categoria:Temporada 2016',\n",
    "                                  'Categoria:Temporada 2017', \n",
    "                                  'Categoria:Temporada 2018', \n",
    "                                  'Categoria:Temporada 2019', \n",
    "                                  'Categoria:Temporada 2020', \n",
    "                                  'Categoria:Temporada 2021', \n",
    "                                  'Categoria:Temporada 2022',\n",
    "                                  'Categoria:Temporada 2023']\n",
    "                                  }\n",
    "                                  )"
   ]
  },
  {
   "cell_type": "code",
   "execution_count": 4,
   "metadata": {},
   "outputs": [],
   "source": [
    "# lista para armazenar os dados encontrados\n",
    "anos = []\n",
    "datas = []\n",
    "pubPagantes = []\n",
    "pubPresentes = []\n",
    "placares = []\n",
    "\n",
    "# percorre a lista de temporadas\n",
    "for temporada in temporadas:\n",
    "    # obtém o link da temporada\n",
    "    link_temporada = temporada.get('href')\n",
    "    \n",
    "    # faz a requisição HTTP para a página da temporada\n",
    "    response_temporada = requests.get('https://cruzeiropedia.org' + link_temporada)\n",
    "    \n",
    "    # faz o parsing do HTML da página da temporada\n",
    "    soup_temporada = BeautifulSoup(response_temporada.content, 'html.parser')\n",
    "    \n",
    "    # identifica os jogos que o cruzeiro foi mandante na temporada em questão\n",
    "    jogos = soup_temporada.find_all('a', {'title':re.compile('^Cruzeiro .*')})\n",
    "\n",
    "    # entra em cada um dos jogos\n",
    "    for jogo in jogos:\n",
    "        # obtém o link do jogo\n",
    "        link_jogos = jogo.get('href')\n",
    "        # faz a requisição HTTP para a página do jogo\n",
    "        response_jogos = requests.get('https://cruzeiropedia.org' + link_jogos)\n",
    "        # faz o parsing do html da página do jogo\n",
    "        soup_jogos = BeautifulSoup(response_jogos.content, 'html.parser')\n",
    "        \n",
    "        # retira a informação do ano\n",
    "        ano = soup_jogos.find('b', string='Data:').find_next_sibling().find_next_sibling().text.strip()\n",
    "        anos.append(ano)\n",
    "\n",
    "        # retira a informação da data\n",
    "        data = soup_jogos.find('b', string='Data:').find_next_sibling().text.strip()\n",
    "        datas.append(data)\n",
    "\n",
    "        # retira a informação do publico pagante\n",
    "        pubPagante = soup_jogos.find('b', string='Público pagante:').next_sibling.strip()\n",
    "        pubPagantes.append(pubPagante)\n",
    "        \n",
    "        # retira a informação do publico presente\n",
    "        pubPresente = soup_jogos.find('b', string='Público Presente:').next_sibling.strip()\n",
    "        pubPresentes.append(pubPresente)\n",
    "\n",
    "        # retira a informação do placar do jogo\n",
    "        placar_element = soup_jogos.find('div', class_='divFicha')\n",
    "        placar = placar_element.find('b').text\n",
    "        placares.append(placar)\n",
    "\n"
   ]
  },
  {
   "cell_type": "code",
   "execution_count": 10,
   "metadata": {},
   "outputs": [],
   "source": [
    "# Formatando as informações retiradas em um dataframe\n",
    "df_raw = pd.DataFrame({'publico_presente': pubPresentes,\n",
    "                   'publico_pagante':pubPagantes,\n",
    "                   'placar':placares})"
   ]
  },
  {
   "cell_type": "code",
   "execution_count": 31,
   "metadata": {},
   "outputs": [],
   "source": [
    "# Salvando esse dataframe como backup \n",
    "\n",
    "df = df_raw.copy()"
   ]
  },
  {
   "cell_type": "code",
   "execution_count": 32,
   "metadata": {},
   "outputs": [
    {
     "data": {
      "text/html": [
       "<div>\n",
       "<style scoped>\n",
       "    .dataframe tbody tr th:only-of-type {\n",
       "        vertical-align: middle;\n",
       "    }\n",
       "\n",
       "    .dataframe tbody tr th {\n",
       "        vertical-align: top;\n",
       "    }\n",
       "\n",
       "    .dataframe thead th {\n",
       "        text-align: right;\n",
       "    }\n",
       "</style>\n",
       "<table border=\"1\" class=\"dataframe\">\n",
       "  <thead>\n",
       "    <tr style=\"text-align: right;\">\n",
       "      <th></th>\n",
       "      <th>publico_presente</th>\n",
       "      <th>publico_pagante</th>\n",
       "      <th>placar</th>\n",
       "    </tr>\n",
       "  </thead>\n",
       "  <tbody>\n",
       "    <tr>\n",
       "      <th>0</th>\n",
       "      <td>Não disponível</td>\n",
       "      <td>4.151</td>\n",
       "      <td>3 × 0</td>\n",
       "    </tr>\n",
       "    <tr>\n",
       "      <th>1</th>\n",
       "      <td>Não disponível</td>\n",
       "      <td>9.793</td>\n",
       "      <td>3 × 4</td>\n",
       "    </tr>\n",
       "    <tr>\n",
       "      <th>2</th>\n",
       "      <td>Não disponível</td>\n",
       "      <td>10.955</td>\n",
       "      <td>5 × 0</td>\n",
       "    </tr>\n",
       "    <tr>\n",
       "      <th>3</th>\n",
       "      <td>2.045</td>\n",
       "      <td>1.664</td>\n",
       "      <td>2 × 0</td>\n",
       "    </tr>\n",
       "    <tr>\n",
       "      <th>4</th>\n",
       "      <td>13.271</td>\n",
       "      <td>12.067</td>\n",
       "      <td>4 × 0</td>\n",
       "    </tr>\n",
       "    <tr>\n",
       "      <th>5</th>\n",
       "      <td>Não disponível</td>\n",
       "      <td>1.217</td>\n",
       "      <td>7 × 0</td>\n",
       "    </tr>\n",
       "    <tr>\n",
       "      <th>6</th>\n",
       "      <td>Não disponível</td>\n",
       "      <td>8.198</td>\n",
       "      <td>6 × 1</td>\n",
       "    </tr>\n",
       "    <tr>\n",
       "      <th>7</th>\n",
       "      <td>Não disponível</td>\n",
       "      <td>3.641</td>\n",
       "      <td>3 × 0</td>\n",
       "    </tr>\n",
       "    <tr>\n",
       "      <th>8</th>\n",
       "      <td>Não disponível</td>\n",
       "      <td>5.098</td>\n",
       "      <td>4 × 1</td>\n",
       "    </tr>\n",
       "    <tr>\n",
       "      <th>9</th>\n",
       "      <td>Não disponível</td>\n",
       "      <td>4.037</td>\n",
       "      <td>5 × 1</td>\n",
       "    </tr>\n",
       "    <tr>\n",
       "      <th>10</th>\n",
       "      <td>15.962</td>\n",
       "      <td>14.972</td>\n",
       "      <td>0 × 2</td>\n",
       "    </tr>\n",
       "    <tr>\n",
       "      <th>11</th>\n",
       "      <td>Não disponível</td>\n",
       "      <td>17.384</td>\n",
       "      <td>2 × 0</td>\n",
       "    </tr>\n",
       "    <tr>\n",
       "      <th>12</th>\n",
       "      <td>Não disponível</td>\n",
       "      <td>9.080 (865 sócios)</td>\n",
       "      <td>1 × 1</td>\n",
       "    </tr>\n",
       "    <tr>\n",
       "      <th>13</th>\n",
       "      <td>7.133</td>\n",
       "      <td>6.073 (668 sócios)</td>\n",
       "      <td>1 × 1</td>\n",
       "    </tr>\n",
       "    <tr>\n",
       "      <th>14</th>\n",
       "      <td>6.442</td>\n",
       "      <td>5.252 (588 sócios)</td>\n",
       "      <td>2 × 1</td>\n",
       "    </tr>\n",
       "    <tr>\n",
       "      <th>15</th>\n",
       "      <td>Não disponível</td>\n",
       "      <td>10.652 (1.100 sócios)</td>\n",
       "      <td>2 × 0</td>\n",
       "    </tr>\n",
       "    <tr>\n",
       "      <th>16</th>\n",
       "      <td>7.804</td>\n",
       "      <td>6.666 (625 sócios)</td>\n",
       "      <td>2 × 1</td>\n",
       "    </tr>\n",
       "    <tr>\n",
       "      <th>17</th>\n",
       "      <td>9.144</td>\n",
       "      <td>7.821 (700 sócios)</td>\n",
       "      <td>0 × 1</td>\n",
       "    </tr>\n",
       "    <tr>\n",
       "      <th>18</th>\n",
       "      <td>16.232</td>\n",
       "      <td>14.863 (1.240 sócios)</td>\n",
       "      <td>0 × 1</td>\n",
       "    </tr>\n",
       "    <tr>\n",
       "      <th>19</th>\n",
       "      <td>Não disponível</td>\n",
       "      <td>6.642 (10 sócios)</td>\n",
       "      <td>5 × 0</td>\n",
       "    </tr>\n",
       "  </tbody>\n",
       "</table>\n",
       "</div>"
      ],
      "text/plain": [
       "   publico_presente        publico_pagante placar\n",
       "0    Não disponível                  4.151  3 × 0\n",
       "1    Não disponível                  9.793  3 × 4\n",
       "2    Não disponível                 10.955  5 × 0\n",
       "3             2.045                  1.664  2 × 0\n",
       "4            13.271                 12.067  4 × 0\n",
       "5    Não disponível                  1.217  7 × 0\n",
       "6    Não disponível                  8.198  6 × 1\n",
       "7    Não disponível                  3.641  3 × 0\n",
       "8    Não disponível                  5.098  4 × 1\n",
       "9    Não disponível                  4.037  5 × 1\n",
       "10           15.962                 14.972  0 × 2\n",
       "11   Não disponível                 17.384  2 × 0\n",
       "12   Não disponível     9.080 (865 sócios)  1 × 1\n",
       "13            7.133     6.073 (668 sócios)  1 × 1\n",
       "14            6.442     5.252 (588 sócios)  2 × 1\n",
       "15   Não disponível  10.652 (1.100 sócios)  2 × 0\n",
       "16            7.804     6.666 (625 sócios)  2 × 1\n",
       "17            9.144     7.821 (700 sócios)  0 × 1\n",
       "18           16.232  14.863 (1.240 sócios)  0 × 1\n",
       "19   Não disponível      6.642 (10 sócios)  5 × 0"
      ]
     },
     "execution_count": 32,
     "metadata": {},
     "output_type": "execute_result"
    }
   ],
   "source": [
    "# Analisando como está a disposição dos dados\n",
    "df.head(20)"
   ]
  },
  {
   "cell_type": "code",
   "execution_count": 98,
   "metadata": {},
   "outputs": [
    {
     "name": "stdout",
     "output_type": "stream",
     "text": [
      "publico_pagante    0\n",
      "resultado          0\n",
      "dtype: int64\n",
      "38\n"
     ]
    }
   ],
   "source": [
    "# Conferindo dados nulos nas colunas\n",
    "df.isnull().sum()"
   ]
  },
  {
   "cell_type": "code",
   "execution_count": 33,
   "metadata": {},
   "outputs": [],
   "source": [
    "# Excluindo a coluna publico presente\n",
    "df.drop('publico_presente', axis=1,inplace=True)"
   ]
  },
  {
   "cell_type": "code",
   "execution_count": 34,
   "metadata": {},
   "outputs": [],
   "source": [
    "# Retirando a informação da quantidade de sócios entre parênteses para manter apenas dados numéricos referentes ao público\n",
    "df[['publico_pagante','erro1','erro2']] = df['publico_pagante'].str.split(' ',expand=True)\n",
    "df.drop(['erro1','erro2'],axis=1,inplace=True)"
   ]
  },
  {
   "cell_type": "code",
   "execution_count": 39,
   "metadata": {},
   "outputs": [],
   "source": [
    "# Retirando o separador de milhar para que a coluna consiga ser usada como tipo numérico\n",
    "for i in range(0,len(df)):\n",
    "    df['publico_pagante'][i] = df['publico_pagante'][i].replace('.','')"
   ]
  },
  {
   "cell_type": "code",
   "execution_count": null,
   "metadata": {},
   "outputs": [],
   "source": [
    "# Separando a quantidade de gols de cada equipe em colunas diferentes\n",
    "df[['golsCruzeiro','golsVisitante']] = df['placar'].str.split(' × ',expand=True)\n",
    "df.drop('placar',axis=1,inplace=True)"
   ]
  },
  {
   "cell_type": "code",
   "execution_count": 54,
   "metadata": {},
   "outputs": [],
   "source": [
    "# Criando uma nova coluna que determina se for vitória, derrota ou empate do time mandante - cruzeiro\n",
    "df['resultado'] = None\n",
    "for i in range(0,len(df)):\n",
    "    if df['golsCruzeiro'][i] > df['golsVisitante'][i]:\n",
    "        df['resultado'][i] = 'Vitória'\n",
    "    elif df['golsCruzeiro'][i] < df['golsVisitante'][i]:\n",
    "        df['resultado'][i] = 'Derrota'\n",
    "    else:\n",
    "        df['resultado'][i] = 'Empate'"
   ]
  },
  {
   "cell_type": "code",
   "execution_count": 56,
   "metadata": {},
   "outputs": [],
   "source": [
    "# Excluindo as colunas de gols e mantendo apenas as duas colunas a serem usadas no teste ANOVA (Resutlado do jogo e Publico)\n",
    "df.drop(['golsCruzeiro','golsVisitante'], axis=1, inplace=True)"
   ]
  },
  {
   "cell_type": "code",
   "execution_count": 76,
   "metadata": {},
   "outputs": [
    {
     "data": {
      "text/plain": [
       "publico_pagante    object\n",
       "resultado          object\n",
       "dtype: object"
      ]
     },
     "execution_count": 76,
     "metadata": {},
     "output_type": "execute_result"
    }
   ],
   "source": [
    "# Conferindo tipos de dados atuais\n",
    "df.dtypes"
   ]
  },
  {
   "cell_type": "code",
   "execution_count": 79,
   "metadata": {},
   "outputs": [],
   "source": [
    "# Alterando o tipo de dados\n",
    "df['publico_pagante'] = df['publico_pagante'].astype('float')\n",
    "df['resultado'] = df['resultado'].astype('category')"
   ]
  },
  {
   "cell_type": "code",
   "execution_count": 105,
   "metadata": {},
   "outputs": [
    {
     "name": "stdout",
     "output_type": "stream",
     "text": [
      "Os dados não parecem ser normalmente distribuídos (rejeitar H0)\n",
      "P-valor do teste de Shapiro-Wilk: 5.87961008547723e-14\n"
     ]
    }
   ],
   "source": [
    "grupo1 = df['publico_pagante']\n",
    "\n",
    "# Teste de Shapiro-Wilk para verificar normalidade\n",
    "_, p_valor = shapiro(grupo1)\n",
    "\n",
    "# Interpretar os resultados\n",
    "alpha = 0.05  # Nível de significância\n",
    "if p_valor > alpha:\n",
    "    print(\"Os dados parecem ser normalmente distribuídos (não rejeitar H0)\")\n",
    "else:\n",
    "    print(\"Os dados não parecem ser normalmente distribuídos (rejeitar H0)\")\n",
    "\n",
    "# Verificação do p-valor\n",
    "print(f'P-valor do teste de Shapiro-Wilk: {p_valor}')"
   ]
  },
  {
   "cell_type": "code",
   "execution_count": 91,
   "metadata": {},
   "outputs": [
    {
     "name": "stderr",
     "output_type": "stream",
     "text": [
      "c:\\Users\\Pichau\\AppData\\Local\\Programs\\Python\\Python311\\Lib\\site-packages\\seaborn\\_oldcore.py:1498: FutureWarning: is_categorical_dtype is deprecated and will be removed in a future version. Use isinstance(dtype, CategoricalDtype) instead\n",
      "  if pd.api.types.is_categorical_dtype(vector):\n",
      "c:\\Users\\Pichau\\AppData\\Local\\Programs\\Python\\Python311\\Lib\\site-packages\\seaborn\\_oldcore.py:1119: FutureWarning: use_inf_as_na option is deprecated and will be removed in a future version. Convert inf values to NaN before operating instead.\n",
      "  with pd.option_context('mode.use_inf_as_na', True):\n"
     ]
    },
    {
     "data": {
      "image/png": "[encoded data removed]",
      "text/plain": [
       "<Figure size 640x480 with 1 Axes>"
      ]
     },
     "metadata": {},
     "output_type": "display_data"
    }
   ],
   "source": [
    "sns.histplot(data=df,x='publico_pagante', kde=True);"
   ]
  },
  {
   "cell_type": "code",
   "execution_count": 107,
   "metadata": {},
   "outputs": [
    {
     "name": "stdout",
     "output_type": "stream",
     "text": [
      "Estatística de teste de Bartlett: 1.292720225387903\n",
      "P-valor de Bartlett: 0.5239494269914261\n",
      "Não rejeitar H0: Não há evidência de diferença nas variâncias entre os grupos.\n"
     ]
    }
   ],
   "source": [
    "# Lista de grupos (resultados)\n",
    "grupos = df['resultado'].unique()\n",
    "\n",
    "# Lista para armazenar as amostras de cada grupo\n",
    "amostras = []\n",
    "\n",
    "# Extrair amostras para cada grupo\n",
    "for grupo in grupos:\n",
    "    amostras_grupo = df[df['resultado'] == grupo]['publico_pagante']\n",
    "    amostras.append(amostras_grupo)\n",
    "\n",
    "# Realize o teste de Bartlett\n",
    "estatistica_bartlett, p_valor_bartlett = bartlett(*amostras)\n",
    "\n",
    "# Imprima os resultados\n",
    "print(\"Estatística de teste de Bartlett:\", estatistica_bartlett)\n",
    "print(\"P-valor de Bartlett:\", p_valor_bartlett)\n",
    "\n",
    "# Interprete os resultados\n",
    "alpha = 0.05  # Nível de significância\n",
    "if p_valor_bartlett < alpha:\n",
    "    print(\"Rejeitar H0: As variâncias são diferentes entre os grupos.\")\n",
    "else:\n",
    "    print(\"Não rejeitar H0: Não há evidência de diferença nas variâncias entre os grupos.\")"
   ]
  }
 ],
 "metadata": {
  "kernelspec": {
   "display_name": "Python 3",
   "language": "python",
   "name": "python3"
  },
  "language_info": {
   "codemirror_mode": {
    "name": "ipython",
    "version": 3
   },
   "file_extension": ".py",
   "mimetype": "text/x-python",
   "name": "python",
   "nbconvert_exporter": "python",
   "pygments_lexer": "ipython3",
   "version": "3.11.5"
  },
  "orig_nbformat": 4
 },
 "nbformat": 4,
 "nbformat_minor": 2
}
